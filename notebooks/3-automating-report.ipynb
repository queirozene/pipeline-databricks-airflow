{
 "cells": [
  {
   "cell_type": "code",
   "execution_count": 0,
   "metadata": {
    "application/vnd.databricks.v1+cell": {
     "cellMetadata": {
      "byteLimit": 2048000,
      "rowLimit": 10000
     },
     "inputWidgets": {},
     "nuid": "89d607c7-1196-430a-b7b1-e2ab91b16b00",
     "showTitle": false,
     "tableResultSettingsMap": {},
     "title": ""
    }
   },
   "outputs": [],
   "source": [
    "from slack_sdk import WebClient\n",
    "import pyspark.pandas as ps\n",
    "import matplotlib.pyplot as plt\n",
    "import os\n",
    "\n",
    "spark.conf.set(\"spark.sql.ansi.enabled\", False)"
   ]
  },
  {
   "cell_type": "code",
   "execution_count": 0,
   "metadata": {
    "application/vnd.databricks.v1+cell": {
     "cellMetadata": {
      "byteLimit": 2048000,
      "rowLimit": 10000
     },
     "inputWidgets": {},
     "nuid": "2a1e0484-4f88-42ba-9cd3-008c9fb12b32",
     "showTitle": false,
     "tableResultSettingsMap": {},
     "title": ""
    }
   },
   "outputs": [],
   "source": [
    "slack_token = '<slack-token>'\n",
    "client = WebClient(token=slack_token)"
   ]
  },
  {
   "cell_type": "code",
   "execution_count": 0,
   "metadata": {
    "application/vnd.databricks.v1+cell": {
     "cellMetadata": {
      "byteLimit": 2048000,
      "rowLimit": 10000
     },
     "inputWidgets": {},
     "nuid": "3ce7612a-e423-496d-8e05-0da8f433f78f",
     "showTitle": false,
     "tableResultSettingsMap": {},
     "title": ""
    }
   },
   "outputs": [],
   "source": [
    "file_name = dbutils.fs.ls(\"dbfs:/databricks-results/prata/valores_reais\")[-1].name\n",
    "\n",
    "path = \"/dbfs/databricks-results/prata/valores_reais/\" + file_name"
   ]
  },
  {
   "cell_type": "code",
   "execution_count": 0,
   "metadata": {
    "application/vnd.databricks.v1+cell": {
     "cellMetadata": {
      "byteLimit": 2048000,
      "rowLimit": 10000
     },
     "inputWidgets": {},
     "nuid": "be0520b3-2b5d-495b-8a9b-1946db2d1899",
     "showTitle": false,
     "tableResultSettingsMap": {},
     "title": ""
    }
   },
   "outputs": [],
   "source": [
    "send_file_csv = client.files_upload_v2(\n",
    "    channel=\"C096LMP8UJE\",\n",
    "    title=\"Arquivo no formato CSV do valor do real convertido\",\n",
    "    file=path,\n",
    "    filename=\"valores_reais.csv\",\n",
    "    initial_comment=\"Segue anexo do arquivo CSV com os valores reais convertidos diario:\"\n",
    ")"
   ]
  },
  {
   "cell_type": "code",
   "execution_count": 0,
   "metadata": {
    "application/vnd.databricks.v1+cell": {
     "cellMetadata": {
      "byteLimit": 2048000,
      "rowLimit": 10000
     },
     "inputWidgets": {},
     "nuid": "227d5f2b-5756-4387-b3d8-24f5e32677e6",
     "showTitle": false,
     "tableResultSettingsMap": {},
     "title": ""
    }
   },
   "outputs": [],
   "source": [
    "df_real_valor = ps.read_csv(\"dbfs:/databricks-results/prata/valores_reais/\")"
   ]
  },
  {
   "cell_type": "code",
   "execution_count": 0,
   "metadata": {
    "application/vnd.databricks.v1+cell": {
     "cellMetadata": {
      "byteLimit": 2048000,
      "rowLimit": 10000
     },
     "inputWidgets": {},
     "nuid": "51dd35d8-999b-45cf-a054-8202a47f32fd",
     "showTitle": false,
     "tableResultSettingsMap": {},
     "title": ""
    }
   },
   "outputs": [],
   "source": [
    "df_real_valor.columns[1:]"
   ]
  },
  {
   "cell_type": "code",
   "execution_count": 0,
   "metadata": {
    "application/vnd.databricks.v1+cell": {
     "cellMetadata": {
      "byteLimit": 2048000,
      "rowLimit": 10000
     },
     "inputWidgets": {},
     "nuid": "6f279991-9c80-438d-8824-1aa1b7e95ff2",
     "showTitle": false,
     "tableResultSettingsMap": {},
     "title": ""
    }
   },
   "outputs": [],
   "source": [
    "# Garante que o diretório exista no DBFS\n",
    "output_dir = \"/dbfs/imagens\"\n",
    "os.makedirs(output_dir, exist_ok=True)\n",
    "\n",
    "for moeda in df_real_valor.columns[1:]:\n",
    "    plt.figure(figsize=(10, 5))\n",
    "    plt.plot(df_real_valor[\"data\"], df_real_valor[moeda], marker='o')\n",
    "    plt.title(f\"Evolução de {moeda}\")\n",
    "    plt.xlabel(\"Data\")\n",
    "    plt.ylabel(\"Valor\")\n",
    "    plt.grid(True)\n",
    "    plt.xticks(rotation=45)\n",
    "    plt.tight_layout()\n",
    "    \n",
    "    file_path = f\"{output_dir}/{moeda}.png\"\n",
    "    plt.savefig(file_path)\n",
    "    plt.close()\n",
    "    \n",
    "    print(f\"Gráfico salvo em: {file_path}\")"
   ]
  },
  {
   "cell_type": "code",
   "execution_count": 0,
   "metadata": {
    "application/vnd.databricks.v1+cell": {
     "cellMetadata": {
      "byteLimit": 2048000,
      "rowLimit": 10000
     },
     "inputWidgets": {},
     "nuid": "d88e76b2-9c2b-4b52-8f11-4871672c0313",
     "showTitle": false,
     "tableResultSettingsMap": {},
     "title": ""
    }
   },
   "outputs": [],
   "source": [
    "def send_images(moeda):\n",
    "    \n",
    "   send_image = client.files_upload_v2(\n",
    "    channel=\"C096LMP8UJE\",\n",
    "    title=\"Enviando imagens de cotações\",\n",
    "    file=f'/dbfs/imagens/{moeda}.png',\n",
    "    filename=f'{moeda}.png',\n",
    "    initial_comment=f\"Segue anexo do gráfico da evolução do valor do {moeda}:\"\n",
    ")"
   ]
  },
  {
   "cell_type": "code",
   "execution_count": 0,
   "metadata": {
    "application/vnd.databricks.v1+cell": {
     "cellMetadata": {
      "byteLimit": 2048000,
      "rowLimit": 10000
     },
     "inputWidgets": {},
     "nuid": "304ea13f-4825-4207-a581-f41e4b2507ad",
     "showTitle": false,
     "tableResultSettingsMap": {},
     "title": ""
    }
   },
   "outputs": [],
   "source": [
    "for moeda in df_real_valor.columns[1:]:\n",
    "    send_images(moeda)"
   ]
  }
 ],
 "metadata": {
  "application/vnd.databricks.v1+notebook": {
   "computePreferences": null,
   "dashboards": [],
   "environmentMetadata": {
    "base_environment": "",
    "environment_version": "2"
   },
   "inputWidgetPreferences": null,
   "language": "python",
   "notebookMetadata": {
    "pythonIndentUnit": 4
   },
   "notebookName": "3-automating-report",
   "widgets": {}
  },
  "language_info": {
   "name": "python"
  }
 },
 "nbformat": 4,
 "nbformat_minor": 0
}
