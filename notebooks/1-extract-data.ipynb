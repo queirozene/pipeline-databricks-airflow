{
 "cells": [
  {
   "cell_type": "code",
   "execution_count": 0,
   "metadata": {
    "application/vnd.databricks.v1+cell": {
     "cellMetadata": {},
     "inputWidgets": {},
     "nuid": "c4f88c5b-dc86-4d5b-95c5-299a4d10a23d",
     "showTitle": false,
     "tableResultSettingsMap": {},
     "title": ""
    }
   },
   "outputs": [],
   "source": [
    "dbutils.widgets.text(\"data_execucao\", \"\")\n",
    "data_execucao = dbutils.widgets.get(\"data_execucao\")"
   ]
  },
  {
   "cell_type": "code",
   "execution_count": 0,
   "metadata": {
    "application/vnd.databricks.v1+cell": {
     "cellMetadata": {
      "byteLimit": 2048000,
      "rowLimit": 10000
     },
     "inputWidgets": {},
     "nuid": "023a643d-6ff3-42ea-be10-7f9d17f67777",
     "showTitle": false,
     "tableResultSettingsMap": {},
     "title": ""
    }
   },
   "outputs": [],
   "source": [
    "import requests\n",
    "from pyspark.sql.functions import lit"
   ]
  },
  {
   "cell_type": "code",
   "execution_count": 0,
   "metadata": {
    "application/vnd.databricks.v1+cell": {
     "cellMetadata": {
      "byteLimit": 2048000,
      "rowLimit": 10000
     },
     "inputWidgets": {},
     "nuid": "28bd6cf5-39f5-4461-a6fd-e5d7e979ba55",
     "showTitle": false,
     "tableResultSettingsMap": {},
     "title": ""
    }
   },
   "outputs": [],
   "source": [
    "def extract_data(date, base=\"BRL\"):\n",
    "\n",
    "  url = f\"https://api.apilayer.com/exchangerates_data/{date}&base={base}\"\n",
    "\n",
    "  headers = {\n",
    "  \"apikey\": \"6S38Kwmfck6QmL6BLSD4JmHBK8V1cGxP\"\n",
    " }\n",
    "\n",
    "  parametros = {\"base\":base}\n",
    " \n",
    "  response = requests.request(\"GET\", url, headers=headers, params = parametros)\n",
    "\n",
    "  if response.status_code != 200:\n",
    "    raise Exception(f\"Não foi possivel extrair os dados!!! | status_code {response.status_code}\")\n",
    "\n",
    "  return response.json()"
   ]
  },
  {
   "cell_type": "code",
   "execution_count": 0,
   "metadata": {
    "application/vnd.databricks.v1+cell": {
     "cellMetadata": {
      "byteLimit": 2048000,
      "rowLimit": 10000
     },
     "inputWidgets": {},
     "nuid": "2a291f10-116a-42e9-a8c4-4fc8a9711b4e",
     "showTitle": false,
     "tableResultSettingsMap": {},
     "title": ""
    }
   },
   "outputs": [],
   "source": [
    "def data_to_df (data_json): \n",
    "    \n",
    "    data_tuple = [(moeda, float (taxa)) for moeda, taxa in data_json[\"rates\"].items()]\n",
    "    return data_tuple"
   ]
  },
  {
   "cell_type": "code",
   "execution_count": 0,
   "metadata": {
    "application/vnd.databricks.v1+cell": {
     "cellMetadata": {
      "byteLimit": 2048000,
      "rowLimit": 10000
     },
     "inputWidgets": {},
     "nuid": "972c074b-2c28-478a-ac9d-24681ad53bcd",
     "showTitle": false,
     "tableResultSettingsMap": {},
     "title": ""
    }
   },
   "outputs": [],
   "source": [
    "def save_to_parquet(converted_data):\n",
    "\n",
    "  ano, mes, dia = converted_data['date'].split('-')\n",
    "  full_path = f\"dbfs:/databricks-results/bronze/{ano}/{mes}/{dia}/\"\n",
    "\n",
    "  response = data_to_df(converted_data)\n",
    "  df = spark.createDataFrame(response, [\"moeda\", \"taxa\"])\n",
    "  df = df.withColumn('data', lit(f\"{ano}-{mes}-{dia}\"))\n",
    "\n",
    "  df.write.mode(\"overwrite\").format(\"parquet\").save(full_path)\n",
    "\n",
    "  print(f\"Os arquivos foram salvos em {full_path}\")"
   ]
  },
  {
   "cell_type": "code",
   "execution_count": 0,
   "metadata": {
    "application/vnd.databricks.v1+cell": {
     "cellMetadata": {
      "byteLimit": 2048000,
      "rowLimit": 10000
     },
     "inputWidgets": {},
     "nuid": "0d9380c8-3076-4f18-b7e0-d9066380d7ee",
     "showTitle": false,
     "tableResultSettingsMap": {},
     "title": ""
    }
   },
   "outputs": [],
   "source": [
    "cotas = extract_data(data_execucao)\n",
    "save_to_parquet(cotas)"
   ]
  }
 ],
 "metadata": {
  "application/vnd.databricks.v1+notebook": {
   "computePreferences": null,
   "dashboards": [],
   "environmentMetadata": {
    "base_environment": "",
    "environment_version": "2"
   },
   "inputWidgetPreferences": null,
   "language": "python",
   "notebookMetadata": {
    "pythonIndentUnit": 4
   },
   "notebookName": "1-extract-data",
   "widgets": {}
  },
  "language_info": {
   "name": "python"
  }
 },
 "nbformat": 4,
 "nbformat_minor": 0
}
